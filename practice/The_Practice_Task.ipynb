{
 "cells": [
  {
   "cell_type": "markdown",
   "metadata": {
    "id": "TIlj9J_aw06I"
   },
   "source": [
    "# Welcome to the practice task 🏋\n",
    "\n",
    "In this practice task, we have been tasked to assist a group of biologists in their research on the impact of sports on the hormone levels of a group of mice. They have supplied us with a dataset containing information on hormone values from various observations. Our role, as data scientists, is to clean and prepare the dataset for machine learning analysis.\n",
    "\n",
    "----\n",
    "\n",
    "\n",
    "The tasks involved in this process are as follows:\n",
    "\n",
    "\n",
    "*   Removing rows with missing or null values.\n",
    "*   Applying standard scaling using the scikit-learn StandardScaler to standardize the features.\n",
    "\n",
    "\n"
   ]
  },
  {
   "cell_type": "markdown",
   "metadata": {
    "id": "eR17nr9KyzbQ"
   },
   "source": [
    "Importing the modules"
   ]
  },
  {
   "cell_type": "code",
   "execution_count": 1,
   "metadata": {
    "id": "fjhosUn3wkr-"
   },
   "outputs": [],
   "source": [
    "import pandas as pd\n",
    "from sklearn.preprocessing import StandardScaler"
   ]
  },
  {
   "cell_type": "markdown",
   "metadata": {
    "id": "_bCbfQmny2wS"
   },
   "source": [
    "Importing the dataset"
   ]
  },
  {
   "cell_type": "code",
   "execution_count": 2,
   "metadata": {
    "colab": {
     "base_uri": "https://localhost:8080/",
     "height": 206
    },
    "id": "qDPrbjOWy1_n",
    "outputId": "ee93c0e9-f48a-4c98-e7cd-d6f4fb3eb355"
   },
   "outputs": [
    {
     "data": {
      "text/html": [
       "<div>\n",
       "<style scoped>\n",
       "    .dataframe tbody tr th:only-of-type {\n",
       "        vertical-align: middle;\n",
       "    }\n",
       "\n",
       "    .dataframe tbody tr th {\n",
       "        vertical-align: top;\n",
       "    }\n",
       "\n",
       "    .dataframe thead th {\n",
       "        text-align: right;\n",
       "    }\n",
       "</style>\n",
       "<table border=\"1\" class=\"dataframe\">\n",
       "  <thead>\n",
       "    <tr style=\"text-align: right;\">\n",
       "      <th></th>\n",
       "      <th>Prolactin</th>\n",
       "      <th>Testosterone</th>\n",
       "      <th>Estradiol</th>\n",
       "      <th>Ghrelin</th>\n",
       "      <th>Leptin</th>\n",
       "      <th>Growth Hormone</th>\n",
       "      <th>Thyroid hormones</th>\n",
       "      <th>Cortisol</th>\n",
       "      <th>Glucagon</th>\n",
       "      <th>Insulin</th>\n",
       "    </tr>\n",
       "  </thead>\n",
       "  <tbody>\n",
       "    <tr>\n",
       "      <th>0</th>\n",
       "      <td>60.858987</td>\n",
       "      <td>87.344148</td>\n",
       "      <td>36.548465</td>\n",
       "      <td>51.606929</td>\n",
       "      <td>73.392630</td>\n",
       "      <td>104.607003</td>\n",
       "      <td>58.929211</td>\n",
       "      <td>27.558829</td>\n",
       "      <td>37.477667</td>\n",
       "      <td>8.508406</td>\n",
       "    </tr>\n",
       "    <tr>\n",
       "      <th>1</th>\n",
       "      <td>45.372350</td>\n",
       "      <td>20.377196</td>\n",
       "      <td>47.919643</td>\n",
       "      <td>3.786530</td>\n",
       "      <td>68.394583</td>\n",
       "      <td>84.649699</td>\n",
       "      <td>78.608607</td>\n",
       "      <td>80.188358</td>\n",
       "      <td>45.654386</td>\n",
       "      <td>3.183478</td>\n",
       "    </tr>\n",
       "    <tr>\n",
       "      <th>2</th>\n",
       "      <td>9.568807</td>\n",
       "      <td>33.239611</td>\n",
       "      <td>16.617455</td>\n",
       "      <td>56.309311</td>\n",
       "      <td>24.299365</td>\n",
       "      <td>23.293599</td>\n",
       "      <td>42.872505</td>\n",
       "      <td>22.585599</td>\n",
       "      <td>1.240089</td>\n",
       "      <td>13.115196</td>\n",
       "    </tr>\n",
       "    <tr>\n",
       "      <th>3</th>\n",
       "      <td>59.330341</td>\n",
       "      <td>84.822243</td>\n",
       "      <td>36.390014</td>\n",
       "      <td>62.697380</td>\n",
       "      <td>83.580213</td>\n",
       "      <td>87.102520</td>\n",
       "      <td>66.446913</td>\n",
       "      <td>9.445333</td>\n",
       "      <td>29.833509</td>\n",
       "      <td>25.341548</td>\n",
       "    </tr>\n",
       "    <tr>\n",
       "      <th>4</th>\n",
       "      <td>49.787001</td>\n",
       "      <td>91.942422</td>\n",
       "      <td>44.813039</td>\n",
       "      <td>51.875910</td>\n",
       "      <td>79.318703</td>\n",
       "      <td>90.485978</td>\n",
       "      <td>70.058949</td>\n",
       "      <td>18.792459</td>\n",
       "      <td>39.268871</td>\n",
       "      <td>6.729101</td>\n",
       "    </tr>\n",
       "  </tbody>\n",
       "</table>\n",
       "</div>"
      ],
      "text/plain": [
       "   Prolactin  Testosterone  Estradiol    Ghrelin     Leptin  Growth Hormone  \\\n",
       "0  60.858987     87.344148  36.548465  51.606929  73.392630      104.607003   \n",
       "1  45.372350     20.377196  47.919643   3.786530  68.394583       84.649699   \n",
       "2   9.568807     33.239611  16.617455  56.309311  24.299365       23.293599   \n",
       "3  59.330341     84.822243  36.390014  62.697380  83.580213       87.102520   \n",
       "4  49.787001     91.942422  44.813039  51.875910  79.318703       90.485978   \n",
       "\n",
       "   Thyroid hormones   Cortisol   Glucagon    Insulin  \n",
       "0         58.929211  27.558829  37.477667   8.508406  \n",
       "1         78.608607  80.188358  45.654386   3.183478  \n",
       "2         42.872505  22.585599   1.240089  13.115196  \n",
       "3         66.446913   9.445333  29.833509  25.341548  \n",
       "4         70.058949  18.792459  39.268871   6.729101  "
      ]
     },
     "execution_count": 2,
     "metadata": {},
     "output_type": "execute_result"
    }
   ],
   "source": [
    "data = pd.read_csv(\"Practice_task_data.csv\")\n",
    "data.head()"
   ]
  },
  {
   "cell_type": "markdown",
   "metadata": {
    "id": "yFm6Jh9YzpxI"
   },
   "source": [
    "Check the shape of the dataset"
   ]
  },
  {
   "cell_type": "code",
   "execution_count": 3,
   "metadata": {
    "colab": {
     "base_uri": "https://localhost:8080/"
    },
    "id": "NVl75OEiztWA",
    "outputId": "1d35b46d-39f9-4a79-a064-517bb4032d53"
   },
   "outputs": [
    {
     "data": {
      "text/plain": [
       "(6000, 10)"
      ]
     },
     "execution_count": 3,
     "metadata": {},
     "output_type": "execute_result"
    }
   ],
   "source": [
    "data.shape"
   ]
  },
  {
   "cell_type": "markdown",
   "metadata": {
    "id": "AZCZGkeRzKH-"
   },
   "source": [
    "Removing the rows with  Nan values in the dataset"
   ]
  },
  {
   "cell_type": "code",
   "execution_count": 4,
   "metadata": {
    "id": "o-cW5KYBzoiQ"
   },
   "outputs": [],
   "source": [
    "data.dropna(inplace=True)"
   ]
  },
  {
   "cell_type": "markdown",
   "metadata": {
    "id": "TbECiwlz9_xt"
   },
   "source": [
    "Check the shape of the data frame again to check how many rows are deleted."
   ]
  },
  {
   "cell_type": "code",
   "execution_count": 5,
   "metadata": {
    "colab": {
     "base_uri": "https://localhost:8080/"
    },
    "id": "RngVLGlO9_QL",
    "outputId": "004b73bd-6a7d-4953-e2b3-3e7486593349"
   },
   "outputs": [
    {
     "data": {
      "text/plain": [
       "(5993, 10)"
      ]
     },
     "execution_count": 5,
     "metadata": {},
     "output_type": "execute_result"
    }
   ],
   "source": [
    "data.shape"
   ]
  },
  {
   "cell_type": "markdown",
   "metadata": {
    "id": "wOEspSkj0_43"
   },
   "source": [
    "Use the sklearn StandardScaler to scale the dataset features"
   ]
  },
  {
   "cell_type": "code",
   "execution_count": 6,
   "metadata": {
    "colab": {
     "base_uri": "https://localhost:8080/"
    },
    "id": "J2yZ2yFr1CSI",
    "outputId": "3a6b9b6f-1a34-44b5-d76a-63b2af939151"
   },
   "outputs": [],
   "source": [
    "scaled_values = StandardScaler().fit_transform(data)"
   ]
  },
  {
   "cell_type": "markdown",
   "metadata": {
    "id": "ShxUx-qP_Nop"
   },
   "source": [
    "Create a Dataframe of the scaled values"
   ]
  },
  {
   "cell_type": "code",
   "execution_count": 7,
   "metadata": {
    "colab": {
     "base_uri": "https://localhost:8080/",
     "height": 206
    },
    "id": "3ZHRSzz2_NOa",
    "outputId": "3fe6c002-70cb-4bcb-c451-54749a8ed7a8"
   },
   "outputs": [
    {
     "data": {
      "text/html": [
       "<div>\n",
       "<style scoped>\n",
       "    .dataframe tbody tr th:only-of-type {\n",
       "        vertical-align: middle;\n",
       "    }\n",
       "\n",
       "    .dataframe tbody tr th {\n",
       "        vertical-align: top;\n",
       "    }\n",
       "\n",
       "    .dataframe thead th {\n",
       "        text-align: right;\n",
       "    }\n",
       "</style>\n",
       "<table border=\"1\" class=\"dataframe\">\n",
       "  <thead>\n",
       "    <tr style=\"text-align: right;\">\n",
       "      <th></th>\n",
       "      <th>0</th>\n",
       "      <th>1</th>\n",
       "      <th>2</th>\n",
       "      <th>3</th>\n",
       "      <th>4</th>\n",
       "      <th>5</th>\n",
       "      <th>6</th>\n",
       "      <th>7</th>\n",
       "      <th>8</th>\n",
       "      <th>9</th>\n",
       "    </tr>\n",
       "  </thead>\n",
       "  <tbody>\n",
       "    <tr>\n",
       "      <th>0</th>\n",
       "      <td>0.949948</td>\n",
       "      <td>2.208999</td>\n",
       "      <td>-0.144368</td>\n",
       "      <td>0.289141</td>\n",
       "      <td>0.608911</td>\n",
       "      <td>1.294795</td>\n",
       "      <td>0.379820</td>\n",
       "      <td>-0.685224</td>\n",
       "      <td>-0.028378</td>\n",
       "      <td>-0.913645</td>\n",
       "    </tr>\n",
       "    <tr>\n",
       "      <th>1</th>\n",
       "      <td>0.390863</td>\n",
       "      <td>-1.248050</td>\n",
       "      <td>0.329836</td>\n",
       "      <td>-1.672892</td>\n",
       "      <td>0.349125</td>\n",
       "      <td>0.820382</td>\n",
       "      <td>1.060605</td>\n",
       "      <td>1.718373</td>\n",
       "      <td>0.444572</td>\n",
       "      <td>-1.285367</td>\n",
       "    </tr>\n",
       "    <tr>\n",
       "      <th>2</th>\n",
       "      <td>-0.901683</td>\n",
       "      <td>-0.584051</td>\n",
       "      <td>-0.975538</td>\n",
       "      <td>0.482076</td>\n",
       "      <td>-1.942835</td>\n",
       "      <td>-0.638137</td>\n",
       "      <td>-0.175642</td>\n",
       "      <td>-0.912352</td>\n",
       "      <td>-2.124396</td>\n",
       "      <td>-0.592055</td>\n",
       "    </tr>\n",
       "    <tr>\n",
       "      <th>3</th>\n",
       "      <td>0.894762</td>\n",
       "      <td>2.078810</td>\n",
       "      <td>-0.150976</td>\n",
       "      <td>0.744174</td>\n",
       "      <td>1.138436</td>\n",
       "      <td>0.878689</td>\n",
       "      <td>0.639886</td>\n",
       "      <td>-1.512470</td>\n",
       "      <td>-0.470524</td>\n",
       "      <td>0.261440</td>\n",
       "    </tr>\n",
       "    <tr>\n",
       "      <th>4</th>\n",
       "      <td>0.550237</td>\n",
       "      <td>2.446377</td>\n",
       "      <td>0.200284</td>\n",
       "      <td>0.300177</td>\n",
       "      <td>0.916933</td>\n",
       "      <td>0.959119</td>\n",
       "      <td>0.764840</td>\n",
       "      <td>-1.085585</td>\n",
       "      <td>0.075227</td>\n",
       "      <td>-1.037855</td>\n",
       "    </tr>\n",
       "    <tr>\n",
       "      <th>...</th>\n",
       "      <td>...</td>\n",
       "      <td>...</td>\n",
       "      <td>...</td>\n",
       "      <td>...</td>\n",
       "      <td>...</td>\n",
       "      <td>...</td>\n",
       "      <td>...</td>\n",
       "      <td>...</td>\n",
       "      <td>...</td>\n",
       "      <td>...</td>\n",
       "    </tr>\n",
       "    <tr>\n",
       "      <th>5988</th>\n",
       "      <td>1.000352</td>\n",
       "      <td>0.018608</td>\n",
       "      <td>0.736883</td>\n",
       "      <td>-1.214801</td>\n",
       "      <td>1.060358</td>\n",
       "      <td>0.919824</td>\n",
       "      <td>0.672250</td>\n",
       "      <td>1.183444</td>\n",
       "      <td>-0.024519</td>\n",
       "      <td>-0.780492</td>\n",
       "    </tr>\n",
       "    <tr>\n",
       "      <th>5989</th>\n",
       "      <td>1.729987</td>\n",
       "      <td>-0.187634</td>\n",
       "      <td>1.505287</td>\n",
       "      <td>-1.671073</td>\n",
       "      <td>2.019124</td>\n",
       "      <td>0.881320</td>\n",
       "      <td>0.772173</td>\n",
       "      <td>2.047359</td>\n",
       "      <td>0.903010</td>\n",
       "      <td>-1.167434</td>\n",
       "    </tr>\n",
       "    <tr>\n",
       "      <th>5990</th>\n",
       "      <td>1.127535</td>\n",
       "      <td>1.970967</td>\n",
       "      <td>-0.584440</td>\n",
       "      <td>0.872514</td>\n",
       "      <td>0.514588</td>\n",
       "      <td>0.819493</td>\n",
       "      <td>0.106391</td>\n",
       "      <td>-1.297956</td>\n",
       "      <td>0.241918</td>\n",
       "      <td>-0.836512</td>\n",
       "    </tr>\n",
       "    <tr>\n",
       "      <th>5991</th>\n",
       "      <td>-0.313934</td>\n",
       "      <td>-0.027301</td>\n",
       "      <td>-0.056419</td>\n",
       "      <td>-0.004964</td>\n",
       "      <td>-0.061284</td>\n",
       "      <td>-1.103150</td>\n",
       "      <td>-1.619896</td>\n",
       "      <td>1.055163</td>\n",
       "      <td>0.282258</td>\n",
       "      <td>1.481101</td>\n",
       "    </tr>\n",
       "    <tr>\n",
       "      <th>5992</th>\n",
       "      <td>0.650366</td>\n",
       "      <td>-0.601294</td>\n",
       "      <td>1.486654</td>\n",
       "      <td>-1.238683</td>\n",
       "      <td>0.542610</td>\n",
       "      <td>0.593449</td>\n",
       "      <td>1.178493</td>\n",
       "      <td>1.830630</td>\n",
       "      <td>-0.172592</td>\n",
       "      <td>-0.967653</td>\n",
       "    </tr>\n",
       "  </tbody>\n",
       "</table>\n",
       "<p>5993 rows × 10 columns</p>\n",
       "</div>"
      ],
      "text/plain": [
       "             0         1         2         3         4         5         6  \\\n",
       "0     0.949948  2.208999 -0.144368  0.289141  0.608911  1.294795  0.379820   \n",
       "1     0.390863 -1.248050  0.329836 -1.672892  0.349125  0.820382  1.060605   \n",
       "2    -0.901683 -0.584051 -0.975538  0.482076 -1.942835 -0.638137 -0.175642   \n",
       "3     0.894762  2.078810 -0.150976  0.744174  1.138436  0.878689  0.639886   \n",
       "4     0.550237  2.446377  0.200284  0.300177  0.916933  0.959119  0.764840   \n",
       "...        ...       ...       ...       ...       ...       ...       ...   \n",
       "5988  1.000352  0.018608  0.736883 -1.214801  1.060358  0.919824  0.672250   \n",
       "5989  1.729987 -0.187634  1.505287 -1.671073  2.019124  0.881320  0.772173   \n",
       "5990  1.127535  1.970967 -0.584440  0.872514  0.514588  0.819493  0.106391   \n",
       "5991 -0.313934 -0.027301 -0.056419 -0.004964 -0.061284 -1.103150 -1.619896   \n",
       "5992  0.650366 -0.601294  1.486654 -1.238683  0.542610  0.593449  1.178493   \n",
       "\n",
       "             7         8         9  \n",
       "0    -0.685224 -0.028378 -0.913645  \n",
       "1     1.718373  0.444572 -1.285367  \n",
       "2    -0.912352 -2.124396 -0.592055  \n",
       "3    -1.512470 -0.470524  0.261440  \n",
       "4    -1.085585  0.075227 -1.037855  \n",
       "...        ...       ...       ...  \n",
       "5988  1.183444 -0.024519 -0.780492  \n",
       "5989  2.047359  0.903010 -1.167434  \n",
       "5990 -1.297956  0.241918 -0.836512  \n",
       "5991  1.055163  0.282258  1.481101  \n",
       "5992  1.830630 -0.172592 -0.967653  \n",
       "\n",
       "[5993 rows x 10 columns]"
      ]
     },
     "execution_count": 7,
     "metadata": {},
     "output_type": "execute_result"
    }
   ],
   "source": [
    "dataframe = pd.DataFrame(scaled_values)\n",
    "dataframe"
   ]
  }
 ],
 "metadata": {
  "colab": {
   "collapsed_sections": [
    "TIlj9J_aw06I"
   ],
   "provenance": []
  },
  "kernelspec": {
   "display_name": "Python 3",
   "name": "python3"
  },
  "language_info": {
   "codemirror_mode": {
    "name": "ipython",
    "version": 3
   },
   "file_extension": ".py",
   "mimetype": "text/x-python",
   "name": "python",
   "nbconvert_exporter": "python",
   "pygments_lexer": "ipython3",
   "version": "3.12.10"
  }
 },
 "nbformat": 4,
 "nbformat_minor": 0
}
